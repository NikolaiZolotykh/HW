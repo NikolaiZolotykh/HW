{
 "cells": [
  {
   "cell_type": "markdown",
   "metadata": {},
   "source": [
    "# Лабораторная работа 1. Нейронные сети.\n",
    "\n",
    "Результат лабораторной работы − отчет. Мы предпочитаем принимать отчеты в формате ноутбуков IPython (ipynb-файл). Постарайтесь сделать ваш отчет интересным рассказом, последовательно отвечающим на вопросы из заданий. Помимо ответов на вопросы, в отчете также должен быть код, однако чем меньше кода, тем лучше всем: нам − меньше проверять, вам — проще найти ошибку или дополнить эксперимент. При проверке оценивается четкость ответов на вопросы, аккуратность отчета и кода.\n",
    "\n",
    "Мы уверены, что выполнение лабораторных работ занимает значительное время, поэтому не рекомендуем оставлять их на последний вечер перед сдачей.\n",
    "\n",
    "### Оценивание и штрафы\n",
    "* Каждая из задач имеет определенную «стоимость» (указана в скобках около задачи)\n",
    "* Максимально допустимая оценка за всю работу — 15 баллов\n",
    "* Сдавать задание после указанного срока сдачи нельзя\n",
    "* «Похожие» решения считаются плагиатом и все задействованные студенты (в том числе те, у кого списали) не могут получить за него больше 0 баллов и понижают карму (подробнее о плагиате см. на странице курса)\n",
    "* Если вы нашли решение какого-то из заданий в открытом источнике, необходимо прислать ссылку на этот источник (скорее всего вы будете не единственным, кто это нашел, поэтому чтобы исключить подозрение в плагиате, необходима ссылка на источник)\n",
    "* Не оцениваются задания с удалёнными формулировкам\n",
    "* Не оценивается лабораторная работа целиком, если она была выложена в открытый источник\n",
    "\n",
    "Обратите внимание, что мы не ставим оценку за просто написанный код, корректная работоспособность которого не подтверждена экспериментами.\n",
    "\n",
    "### Правила сдачи\n",
    "Выполненную работу следует отправить в систему Anytask. Более подробно о системе можно почитать на странице курса. Название отправляемого файла должно иметь следующий формат: Surname_Name_Group_NN.ipynb, где NN — номер лабораторной работы. Например, Kozlova_Anna_CS_01.ipynb."
   ]
  },
  {
   "cell_type": "markdown",
   "metadata": {},
   "source": [
    "# Часть 3. Рекуррентные языковые модели\n",
    "\n",
    "![](https://encrypted-tbn0.gstatic.com/images?q=tbn:ANd9GcSj85jp-W-V-Bz8ZBjFJYIkV1TTxQxTMh4iqls_rRt8O-sraL08PA)\n",
    "\n",
    "В этой части домашней работы мы создадим языковую модель на рекуррентных нейросетях (RNN) и заставим её придумывать имена.\n",
    "\n",
    "__Языковая модель__, если вкратце, это модель, которая умеет как предсказывать вероятность некоторого текста. Ее можно использовать также чтобы генерировать текст в соответствии с обученными вероятностями. Задание будет заключаться в том, чтобы научить модель генерировать новые имена, скормив ей для этого 8к существующих.\n",
    "\n",
    "В данном случае в качестве входных данных мы будет работать со строками, которые можно рассматривать как последовательности _символов_: $\\{x_0, x_1, x_2, ..., x_n\\}$. \n",
    "\n",
    "Наша основная задача — научиться предсказывать вероятность следующего символа:\n",
    "$$ p(x_0, x_1, x_2, ..., x_n) = \\prod_t p(x_t | x_0, ... x_{t - 1}) $$"
   ]
  },
  {
   "cell_type": "code",
   "execution_count": 1,
   "metadata": {},
   "outputs": [],
   "source": [
    "import numpy as np\n",
    "import matplotlib.pyplot as plt\n",
    "%matplotlib inline"
   ]
  },
  {
   "cell_type": "markdown",
   "metadata": {},
   "source": [
    "### Данные\n",
    "\n",
    "Мы будем строить языковую модель по ~8k человеческих имён на латинице. Если когда-нибудь вам нужно будет дать имя своему ребёнку, у вас будет для этого генеративная нейросетевая модель.\n",
    "\n",
    "Давайте их прочитаем:\n",
    "* Считайте все строки из файла `./names` в список\n",
    "* В начало каждой строки допишите __пробел__\n",
    "* В конце сроки не должно быть переноса (`\\n`)"
   ]
  },
  {
   "cell_type": "code",
   "execution_count": 2,
   "metadata": {},
   "outputs": [],
   "source": [
    "import os\n",
    "start_token = \" \"\n",
    "\n",
    "with open('names', 'r') as f:\n",
    "    lines = f.readlines()\n",
    "lines = [start_token + line[:-1] for line in lines]"
   ]
  },
  {
   "cell_type": "code",
   "execution_count": null,
   "metadata": {},
   "outputs": [],
   "source": []
  },
  {
   "cell_type": "code",
   "execution_count": 3,
   "metadata": {},
   "outputs": [],
   "source": [
    "assert all(line[0] == start_token for line in lines)\n",
    "assert all(line[-1] != '\\n' for line in lines)"
   ]
  },
  {
   "cell_type": "code",
   "execution_count": 4,
   "metadata": {},
   "outputs": [
    {
     "name": "stdout",
     "output_type": "stream",
     "text": [
      "n samples =  7944\n",
      " Abagael\n",
      " Claresta\n",
      " Glory\n",
      " Liliane\n",
      " Prissie\n",
      " Geeta\n",
      " Giovanne\n",
      " Piggy\n"
     ]
    }
   ],
   "source": [
    "print ('n samples = ',len(lines))\n",
    "for x in lines[::1000]:\n",
    "    print (x)"
   ]
  },
  {
   "cell_type": "markdown",
   "metadata": {},
   "source": [
    "Проверьте, что все корректно:"
   ]
  },
  {
   "cell_type": "code",
   "execution_count": 5,
   "metadata": {},
   "outputs": [
    {
     "name": "stdout",
     "output_type": "stream",
     "text": [
      "max length = 16\n"
     ]
    }
   ],
   "source": [
    "MAX_LENGTH = max(map(len, lines))\n",
    "print(\"max length =\", MAX_LENGTH)\n",
    "assert MAX_LENGTH == 16 , \"max length (for names) should be 16. remove assert if you work on different dataset\""
   ]
  },
  {
   "cell_type": "markdown",
   "metadata": {},
   "source": [
    "## Словари\n",
    "\n",
    "В начале нам будет необходимо построить \"словарь\" — упорядоченное множество уникальных символов, которые сеть может породить. Это нужно, чтобы уметь сопоставить каждому символу свой номер. Перед отправкой в сеть все символы будут кодироваться их номерами в словаре.\n",
    "\n",
    "Также необходимо добавить в словарь пробельный символ, который будет использоваться в качестве специального токена."
   ]
  },
  {
   "cell_type": "code",
   "execution_count": 6,
   "metadata": {},
   "outputs": [
    {
     "name": "stdout",
     "output_type": "stream",
     "text": [
      "n_tokens =  55\n"
     ]
    }
   ],
   "source": [
    "import string\n",
    "tokens = list(string.ascii_lowercase) + list(string.ascii_uppercase) + [' ', '-', '\\'']\n",
    "\n",
    "tokens = sorted(list(tokens))\n",
    "\n",
    "n_tokens = len(tokens)\n",
    "print ('n_tokens = ',n_tokens)\n",
    "\n",
    "assert 50 < n_tokens < 60"
   ]
  },
  {
   "cell_type": "markdown",
   "metadata": {},
   "source": [
    "А теперь построим обратный словарь: для каждой буквы посчитаем её номер в списке токенов."
   ]
  },
  {
   "cell_type": "code",
   "execution_count": 7,
   "metadata": {},
   "outputs": [],
   "source": [
    "token_to_id = {tokens[i]:i for i in range(len(tokens))}"
   ]
  },
  {
   "cell_type": "code",
   "execution_count": 8,
   "metadata": {},
   "outputs": [
    {
     "name": "stdout",
     "output_type": "stream",
     "text": [
      "Кажется заработало...\n"
     ]
    }
   ],
   "source": [
    "assert len(tokens) == len(token_to_id), \"число токенов должно совпадать\"\n",
    "\n",
    "for i in range(n_tokens):\n",
    "    assert token_to_id[tokens[i]] == i, \"словарь должен указывать на индекс буквы в tokens\"\n",
    "\n",
    "print(\"Кажется заработало...\")"
   ]
  },
  {
   "cell_type": "markdown",
   "metadata": {},
   "source": [
    "Имея построенное соответствие, можно преобразовать батч входных данных в матрицу int32 номеров токенов. Так как в батче все строки должны быть одной длины, слишком короткие строки в батче нужно будет дополнить пробелами (паддинг)."
   ]
  },
  {
   "cell_type": "code",
   "execution_count": 9,
   "metadata": {},
   "outputs": [],
   "source": [
    "def to_matrix(lines, max_len=None, pad=token_to_id[' '], dtype='int32'):\n",
    "    \"\"\"Casts a list of names into rnn-digestable matrix\"\"\"\n",
    "    max_len = max_len or max(map(len, lines))\n",
    "    lines_ix = np.zeros([len(lines), max_len], dtype) + pad\n",
    "\n",
    "    for i in range(len(lines)):\n",
    "        line_ix = list(map(token_to_id.get, lines[i]))\n",
    "        lines_ix[i, :len(line_ix)] = line_ix\n",
    "\n",
    "    return lines_ix"
   ]
  },
  {
   "cell_type": "code",
   "execution_count": 10,
   "metadata": {},
   "outputs": [
    {
     "name": "stdout",
     "output_type": "stream",
     "text": [
      " Abagael\n",
      " Glory\n",
      " Prissie\n",
      " Giovanne\n",
      "[[ 0  3 30 29 35 29 33 40  0]\n",
      " [ 0  9 40 43 46 53  0  0  0]\n",
      " [ 0 18 46 37 47 47 37 33  0]\n",
      " [ 0  9 37 43 50 29 42 42 33]]\n"
     ]
    }
   ],
   "source": [
    "print('\\n'.join(lines[::2000]))\n",
    "print(to_matrix(lines[::2000]))"
   ]
  },
  {
   "cell_type": "markdown",
   "metadata": {},
   "source": [
    "## Один шаг RNN\n",
    "\n",
    "Рекуррентная нейронная сеть (RNN) — это такая сеть с <s>блокнотом</s> состоянием $h$, в который она умеет писать то, что видела.\n",
    "\n",
    "Сеть начинает с пустого $h_0 = \\vec 0$, после чего текст обрабатывается по одному символу:\n",
    "* $x_t$ — очередной символ, $h_t$ — предыдущее состояние\n",
    "* $h_{t+1} = \\text{get_h_next}(h_t, x_t)$ — новое состояние\n",
    "* $p(x_{t+1} | h_{t+1}) = \\text{get_probs}(h_{t+1})$ — вероятность следующего символа\n",
    "\n",
    "\n",
    "\n",
    "<img src=\"https://i.imgur.com/8l4qFF0.png\" width=480>\n",
    "\n",
    "Поскольку $x_t$ это индекс символа в словаре (=натуральное число), то ему можно сопоставить некоторый обучаемый вектор (*embedding*)."
   ]
  },
  {
   "cell_type": "markdown",
   "metadata": {},
   "source": [
    "**Задание 3.1 (0.75 балла)**. Реализуйте вычисление нового состояния *get_h_next* и вероятности следующего символа *get_probs*, после чего напишите код для одного шага рекуррентной сети *rnn_one_step*, как на схеме выше."
   ]
  },
  {
   "cell_type": "code",
   "execution_count": 11,
   "metadata": {},
   "outputs": [
    {
     "name": "stderr",
     "output_type": "stream",
     "text": [
      "C:\\Anaconda3\\lib\\site-packages\\h5py\\__init__.py:36: FutureWarning: Conversion of the second argument of issubdtype from `float` to `np.floating` is deprecated. In future, it will be treated as `np.float64 == np.dtype(float).type`.\n",
      "  from ._conv import register_converters as _register_converters\n",
      "Using TensorFlow backend.\n"
     ]
    }
   ],
   "source": [
    "import tensorflow as tf\n",
    "import keras, keras.layers as L\n",
    "\n",
    "emb_size, rnn_size = 16, 64"
   ]
  },
  {
   "cell_type": "markdown",
   "metadata": {},
   "source": [
    "Создадим слой, который сопоставляет каждому из n_tokens входов свой обучаемый вектор:"
   ]
  },
  {
   "cell_type": "code",
   "execution_count": 12,
   "metadata": {},
   "outputs": [],
   "source": [
    "embed_x = L.Embedding(n_tokens, emb_size)"
   ]
  },
  {
   "cell_type": "markdown",
   "metadata": {},
   "source": [
    "Теперь инициализируем слой, вычисляющий следующее состояния $[emb(x_t), h_t] \\to h_{t+1}$."
   ]
  },
  {
   "cell_type": "code",
   "execution_count": 13,
   "metadata": {},
   "outputs": [],
   "source": [
    "get_h_next = L.Dense(rnn_size, activation='sigmoid')"
   ]
  },
  {
   "cell_type": "markdown",
   "metadata": {},
   "source": [
    "И, наконец, слой предсказывающий вероятности $h_{t+1} \\to P(x_{t+1}|h_{t+1})$."
   ]
  },
  {
   "cell_type": "code",
   "execution_count": 14,
   "metadata": {},
   "outputs": [],
   "source": [
    "get_probs = L.Dense(n_tokens, activation='softmax')"
   ]
  },
  {
   "cell_type": "markdown",
   "metadata": {},
   "source": [
    "Для реализации одного шага RNN реализуйте следующую последовательность действий:\n",
    "1. замените номер символа на его вектор (embedding) (*hint*: возможно, вам потребуется tf.reshape);\n",
    "2. сконкатенируйте вектор входа и предыдущее состояние;\n",
    "3. вычислите следующее состояние сети;\n",
    "4. предскажите вероятности для языковой модели P(x_next | h_next)."
   ]
  },
  {
   "cell_type": "code",
   "execution_count": 15,
   "metadata": {},
   "outputs": [],
   "source": [
    "def rnn_one_step(x_t, h_t):    \n",
    "    x = embed_x(x_t)\n",
    "    x = tf.concat([x, h_t], axis=1)\n",
    "    h_next = get_h_next(x)\n",
    "    output_probs = get_probs(h_next)\n",
    "    return h_next, output_probs"
   ]
  },
  {
   "cell_type": "markdown",
   "metadata": {},
   "source": [
    "Проверим, что все работает:"
   ]
  },
  {
   "cell_type": "code",
   "execution_count": 16,
   "metadata": {},
   "outputs": [],
   "source": [
    "input_sequence = tf.placeholder('int32', (None, MAX_LENGTH))\n",
    "batch_size = tf.shape(input_sequence)[0]\n",
    "\n",
    "# начальное состояние из нулей\n",
    "h0 = tf.zeros([batch_size, rnn_size])"
   ]
  },
  {
   "cell_type": "code",
   "execution_count": 17,
   "metadata": {},
   "outputs": [],
   "source": [
    "h1, p_y1 = rnn_one_step(input_sequence[:, 0], h0)\n",
    "\n",
    "dummy_data = np.arange(MAX_LENGTH * 2).reshape([2, -1])\n",
    "sess = tf.InteractiveSession()\n",
    "sess.run(tf.global_variables_initializer())\n",
    "test_h1, test_p_y1 = sess.run([h1, p_y1],  {input_sequence: dummy_data})\n",
    "\n",
    "assert test_h1.shape == (len(dummy_data), rnn_size)\n",
    "assert test_p_y1.shape == (len(dummy_data), n_tokens) and np.allclose(test_p_y1.sum(-1), 1)"
   ]
  },
  {
   "cell_type": "markdown",
   "metadata": {},
   "source": [
    "## Много шагов RNN\n",
    "\n",
    "После того как был реализован один шаг нейросети, самое время сделать этих шагов побольше. Самый простой способ это сделать — написать цикл для фиксированного числа шагов (`MAX_LENGTH`).\n",
    "\n",
    "**Задание 3.2 (0.25 балла)**. Реализуйте много шагов рекуррентной сети, на каждом шаге вычисляя следующее состояние RNN, исходя из предыдущего, при этом не забывая про *get_h_next* и *get_probs*."
   ]
  },
  {
   "cell_type": "code",
   "execution_count": 18,
   "metadata": {},
   "outputs": [],
   "source": [
    "h_prev = h0\n",
    "predicted_probs = []\n",
    "\n",
    "for t in range(MAX_LENGTH):\n",
    "    x_t = input_sequence[:, t]\n",
    "    # YOUR CODE\n",
    "    \n",
    "    h_next, probs_next = rnn_one_step(x_t, h_prev)\n",
    "    \n",
    "    # END OF YOUR CODE\n",
    "    predicted_probs.append(probs_next)\n",
    "    h_prev = h_next\n",
    "    \n",
    "predicted_probs = tf.stack(predicted_probs, axis=1)"
   ]
  },
  {
   "cell_type": "code",
   "execution_count": 19,
   "metadata": {},
   "outputs": [],
   "source": [
    "assert predicted_probs.shape.as_list() == [None, MAX_LENGTH, n_tokens]\n",
    "assert h_prev.shape.as_list() == h0.shape.as_list()"
   ]
  },
  {
   "cell_type": "markdown",
   "metadata": {},
   "source": [
    "## Обучение RNN\n",
    "\n",
    "Как и любую вероятностную модель, RNN можно обучить методом максимизации log-правдоподобия по всей выборке $D$:\n",
    "\n",
    "$$ \\theta = \\underset \\theta {argmax} \\log P(D) $$\n",
    "\n",
    "где\n",
    "$$ \\log P(D) = \\underset {\\vec x \\in D} \\sum \\log P(\\vec x) = \\underset {\\vec x \\in D} \\sum \\underset {x_t \\in \\vec x} \\sum \\log P(x_t | x_0, ..., x_{t+1})$$\n",
    "\n",
    "C тем же успехом мы можем __минимизировать__ кроссэнтропию — то же самое, но с минусом."
   ]
  },
  {
   "cell_type": "code",
   "execution_count": 20,
   "metadata": {},
   "outputs": [
    {
     "name": "stdout",
     "output_type": "stream",
     "text": [
      "predictions_matrix: (?, 15, 55)\n",
      "answers_matrix: (?, 15, 55)\n"
     ]
    }
   ],
   "source": [
    "predictions_matrix = predicted_probs[:, :-1]\n",
    "answers_matrix = tf.one_hot(input_sequence[:, 1:], n_tokens)\n",
    "\n",
    "print('predictions_matrix:', predictions_matrix.shape)\n",
    "print('answers_matrix:', predictions_matrix.shape)"
   ]
  },
  {
   "cell_type": "markdown",
   "metadata": {},
   "source": [
    "**Задание 3.3 (0.5 балла)**. Реализуйте вычисление функции потерь (кроссэнтропия) и шаг градиентного спуска."
   ]
  },
  {
   "cell_type": "code",
   "execution_count": 21,
   "metadata": {},
   "outputs": [],
   "source": [
    "loss = -tf.reduce_mean(tf.log(predictions_matrix) * answers_matrix)\n",
    "optimize = tf.train.AdamOptimizer().minimize(loss)"
   ]
  },
  {
   "cell_type": "markdown",
   "metadata": {},
   "source": [
    "### Цикл обучения\n",
    "\n",
    "**Задание 3.4 (0.5 балла)**. Напишите цикл обучения:\n",
    "1. выбираем `batch_size` случайных строчек\n",
    "2. преобразуем их в матрицу индексов\n",
    "3. вычисляем функцию потерь и делаем шаг обучения\n",
    "4. записываем функцию потерь в `history`\n",
    "\n",
    "Для удобства отладки рекомендуем печатать или рисовать промежуточные результаты раз в несколько итераций.\n",
    "\n",
    "Также постарайтесь обойтись одним `sess.run` на итерацию цикла."
   ]
  },
  {
   "cell_type": "code",
   "execution_count": 22,
   "metadata": {},
   "outputs": [],
   "source": [
    "batch_size = 32\n",
    "history = []\n",
    "\n",
    "sess.run(tf.global_variables_initializer())"
   ]
  },
  {
   "cell_type": "code",
   "execution_count": 23,
   "metadata": {},
   "outputs": [],
   "source": [
    "X = to_matrix(lines)\n",
    "N = X.shape[0]\n",
    "\n",
    "for i in range(1000):\n",
    "    batch = X[np.random.choice(N, batch_size, False)]\n",
    "    iter_loss, _ = sess.run([loss, optimize], {input_sequence: batch})\n",
    "    history.append(iter_loss)"
   ]
  },
  {
   "cell_type": "code",
   "execution_count": 24,
   "metadata": {},
   "outputs": [
    {
     "data": {
      "image/png": "[encoded data removed]",
      "text/plain": [
       "<Figure size 432x288 with 1 Axes>"
      ]
     },
     "metadata": {
      "needs_background": "light"
     },
     "output_type": "display_data"
    }
   ],
   "source": [
    "plt.plot(history)\n",
    "plt.grid()"
   ]
  },
  {
   "cell_type": "markdown",
   "metadata": {},
   "source": [
    "## Применение RNN\n",
    "\n",
    "Только что у нас обучилась модель, которая предсказывает вероятности следующего символа.\n",
    "Теперь давайте применим её к строке из одного пробела. Получим вероятности первой буквы имени. После чего:\n",
    "* $x_t \\sim P(x_t | h_t)$ — выберем букву пропорционально вероятностям.\n",
    "* $h_{t+1} = \\text{get_h_next}(h_t, x_t)$ — присоединим букву к имени и прогоним через RNN\n"
   ]
  },
  {
   "cell_type": "markdown",
   "metadata": {},
   "source": [
    "Для начала инициализируем необходимые переменные:"
   ]
  },
  {
   "cell_type": "code",
   "execution_count": 25,
   "metadata": {},
   "outputs": [],
   "source": [
    "x_t = tf.placeholder('int32', (None,))\n",
    "h_t = tf.Variable(np.zeros([1, rnn_size], 'float32'))\n",
    "\n",
    "next_h, next_probs = rnn_one_step(x_t, h_t)"
   ]
  },
  {
   "cell_type": "markdown",
   "metadata": {},
   "source": [
    "И будем использовать функцию ниже для генерации новых имен!"
   ]
  },
  {
   "cell_type": "code",
   "execution_count": 26,
   "metadata": {},
   "outputs": [],
   "source": [
    "def generate_sample(seed_phrase=' ', max_length=MAX_LENGTH):\n",
    "    '''\n",
    "    The function generates text given a phrase of length at least SEQ_LENGTH.\n",
    "    :param seed_phrase: prefix characters. The RNN is asked to continue the phrase\n",
    "    :param max_length: maximum output length, including seed_phrase\n",
    "    :param temperature: coefficient for sampling.  higher temperature produces more chaotic outputs,\n",
    "                        smaller temperature converges to the single most likely output\n",
    "    '''\n",
    "    x_sequence = [token_to_id[token] for token in seed_phrase]\n",
    "    sess.run(tf.variables_initializer([h_t]))\n",
    "    \n",
    "    #feed the seed phrase, if any\n",
    "    for ix in x_sequence[:-1]:\n",
    "         sess.run(tf.assign(h_t, next_h), {x_t: [ix]})\n",
    "    \n",
    "    #start generating\n",
    "    for _ in range(max_length-len(seed_phrase)):\n",
    "        x_probs, _ = sess.run([next_probs, tf.assign(h_t, next_h)], {x_t: [x_sequence[-1]]})\n",
    "        x_sequence.append(np.random.choice(n_tokens, p=x_probs[0]))\n",
    "        \n",
    "    return ''.join([tokens[ix] for ix in x_sequence])"
   ]
  },
  {
   "cell_type": "markdown",
   "metadata": {},
   "source": [
    "Посмотрим, что же придумала наша модель:"
   ]
  },
  {
   "cell_type": "code",
   "execution_count": 27,
   "metadata": {},
   "outputs": [
    {
     "name": "stdout",
     "output_type": "stream",
     "text": [
      " Laiaty         \n",
      " Gel            \n",
      " Cirkana        \n",
      " Dipia          \n",
      " Fhylatha       \n",
      " Carne          \n",
      " ThuDilrendavy  \n",
      " Teani          \n",
      " Ghtas          \n",
      " Jedyno         \n"
     ]
    }
   ],
   "source": [
    "for _ in range(10):\n",
    "    print(generate_sample())"
   ]
  },
  {
   "cell_type": "code",
   "execution_count": 28,
   "metadata": {},
   "outputs": [
    {
     "name": "stdout",
     "output_type": "stream",
     "text": [
      " Trumpeedng     \n",
      " Trumpane       \n",
      " Trumpie        \n",
      " Trumplo        \n",
      " Trumpise       \n",
      " Trumpash       \n",
      " Trumpany       \n",
      " Trumpate       \n",
      " Trumpiy        \n",
      " Trumpy    n    \n",
      " Trumpe         \n",
      " Trumpr         \n",
      " Trumpin        \n",
      " Trumpel        \n",
      " Trumpahe       \n",
      " Trumplaetis    \n",
      " Trumplne       \n",
      " Trumpiti       \n",
      " Trumpias       \n",
      " Trumpeih       \n",
      " Trumpkhy       \n",
      " Trumpia        \n",
      " Trumpka        \n",
      " Trumpna        \n",
      " Trumpiedieda   \n",
      " Trumpuin       \n",
      " Trumph         \n",
      " Trumpiloansstev\n",
      " TrumpentikAkn  \n",
      " Trumpan        \n",
      " Trumpekl       \n",
      " Trumprcovac    \n",
      " Trumpi         \n",
      " Trumpalenuo    \n",
      " Trumpa         \n",
      " Trump          \n",
      " Trumpel  c     \n",
      " Trumpacai      \n",
      " Trumpinurle    \n",
      " Trumpet        \n",
      " Trumpkelne   Y \n",
      " Trumpiinna     \n",
      " Trumpaluny     \n",
      " Trumphe        \n",
      " Trumpoe        \n",
      " Trumperbny     \n",
      " Trumpinlsnannel\n",
      " Trumpnnea      \n",
      " Trumpo         \n",
      " TrumplaVsnere  \n"
     ]
    }
   ],
   "source": [
    "for _ in range(50):\n",
    "    print(generate_sample(' Trump'))"
   ]
  },
  {
   "cell_type": "markdown",
   "metadata": {},
   "source": [
    "### Что теперь?\n",
    "\n",
    "Если вам наскучит решать повседневные задачи или вам нужны новые идеи, вы теперь всегда можете воспользоваться RNN чтобы сгенерировать что-то новое. Вот несколько задач, от которых можно отталкиваться:\n",
    "* названия статей по глубинному обучению;\n",
    "* названия карт Magic The Gathering;\n",
    "* [имена покемонов](https://github.com/cervoise/pentest-scripts/blob/master/password-cracking/wordlists/pokemon-list-en.txt);\n",
    "* clickbait заголовки;\n",
    "* молекулы в формате [smiles](https://en.wikipedia.org/wiki/Simplified_molecular-input_line-entry_system);\n",
    "* ваша фантазия, с ограничениями которой вы уже должны были понять как бороться.\n",
    "\n",
    "Если возьмётесь за эту задачу, то вот несколько полезных советов:\n",
    "* Сейчас модель обучается на коротких строчках. Если у вас роман, его придётся порезать на кускочки.\n",
    "* Если длина строк сильно варьируется, можно поставить параметр MAX_LENGTH так, чтобы он покрывал 90%. Это обычно дает ускорение примерно в 2 раза.\n",
    "* Для более сложных задач требуется больше нейронов (rnn_size). Кроме того, можно экспериментировать и со составляющими сети (см. ниже).\n",
    "\n",
    "### Ещё почитать\n",
    "\n",
    "* [Подборка советов](https://danijar.com/tips-for-training-recurrent-neural-networks/) по обучению RNN. Чуть более полезная, чем обычно.\n",
    "* Отличный блог-пост от Andrej Karpathy про языковые модели на rnn, их применение и визуализацию — [Unreasonable Effectiveness of RNN](http://karpathy.github.io/2015/05/21/rnn-effectiveness/).\n",
    "* Большой список статей, постов, реализаций и прочих полезностей по RNN - [awesome rnn](https://github.com/kjw0612/awesome-rnn).\n",
    "* [Зоопарк](https://www.tensorflow.org/api_docs/python/tf/nn/dynamic_rnn) готовых рекуррентных ячеек (LSTM, GRU) в TF. И ещё одна реализация [в карасе](https://keras.io/layers/recurrent/).\n",
    "* Сейчас мы настраиваем количество итераций заранее. Если вы хотите определять их динамически, милости просим в [tf.while_loop](https://www.tensorflow.org/api_docs/python/tf/while_loop) или [tf.scan](https://www.tensorflow.org/api_docs/python/tf/scan).\n",
    "* А ещё рекуррентные сети можно аугментировать механизмом внимания или долговременной памятью. Вот тут есть [хорошая статья](https://distill.pub/2016/augmented-rnns/)."
   ]
  }
 ],
 "metadata": {
  "kernelspec": {
   "display_name": "Python 2",
   "language": "python",
   "name": "python2"
  },
  "language_info": {
   "codemirror_mode": {
    "name": "ipython",
    "version": 2
   },
   "file_extension": ".py",
   "mimetype": "text/x-python",
   "name": "python",
   "nbconvert_exporter": "python",
   "pygments_lexer": "ipython2",
   "version": "2.7.15"
  }
 },
 "nbformat": 4,
 "nbformat_minor": 1
}
